{
  "cells": [
    {
      "cell_type": "markdown",
      "metadata": {
        "id": "view-in-github",
        "colab_type": "text"
      },
      "source": [
        "<a href=\"https://colab.research.google.com/github/abhi101998/abhi101998/blob/main/14_12_2024.ipynb\" target=\"_parent\"><img src=\"https://colab.research.google.com/assets/colab-badge.svg\" alt=\"Open In Colab\"/></a>"
      ]
    },
    {
      "cell_type": "code",
      "execution_count": null,
      "id": "bbc6c189-c768-4335-82db-2df5ca5f8142",
      "metadata": {
        "id": "bbc6c189-c768-4335-82db-2df5ca5f8142"
      },
      "outputs": [],
      "source": [
        "sets = {1,2,3,4,5,6}"
      ]
    },
    {
      "cell_type": "code",
      "execution_count": null,
      "id": "7b0d2c6f-4118-4b00-b5ca-a4f1d5d6e9a4",
      "metadata": {
        "id": "7b0d2c6f-4118-4b00-b5ca-a4f1d5d6e9a4",
        "outputId": "fc935609-1b1f-4845-ea4b-70a85d50ce40"
      },
      "outputs": [
        {
          "name": "stdout",
          "output_type": "stream",
          "text": [
            "{1, 2, 3, 4, 5, 6}\n",
            "2390078253184\n",
            "<class 'set'>\n"
          ]
        }
      ],
      "source": [
        "print(sets)\n",
        "print(id(sets))\n",
        "print(type(sets))"
      ]
    },
    {
      "cell_type": "code",
      "execution_count": null,
      "id": "63cf7511-a980-4fc7-b0f9-bd66bb2e9307",
      "metadata": {
        "id": "63cf7511-a980-4fc7-b0f9-bd66bb2e9307"
      },
      "outputs": [],
      "source": [
        "sets = {1,2,2,3,4,5,6,7,1,1,1,4,4,4}  # stores only unique values."
      ]
    },
    {
      "cell_type": "code",
      "execution_count": null,
      "id": "298a03fb-d48d-4fbe-9009-d6083ec574aa",
      "metadata": {
        "id": "298a03fb-d48d-4fbe-9009-d6083ec574aa",
        "outputId": "5fc4ff96-f054-4979-ca36-a04b147307a0"
      },
      "outputs": [
        {
          "name": "stdout",
          "output_type": "stream",
          "text": [
            "{1, 2, 3, 4, 5, 6, 7}\n"
          ]
        }
      ],
      "source": [
        "print(sets)"
      ]
    },
    {
      "cell_type": "code",
      "execution_count": null,
      "id": "a1c9fee8-635c-4abf-9b8e-72c0534581c5",
      "metadata": {
        "id": "a1c9fee8-635c-4abf-9b8e-72c0534581c5"
      },
      "outputs": [],
      "source": [
        "sets = {1,2,3,4,5,6}"
      ]
    },
    {
      "cell_type": "code",
      "execution_count": null,
      "id": "88a16bd6-af33-4184-ae03-7d6cb00d14cb",
      "metadata": {
        "id": "88a16bd6-af33-4184-ae03-7d6cb00d14cb"
      },
      "outputs": [],
      "source": [
        "sets.add(34)"
      ]
    },
    {
      "cell_type": "code",
      "execution_count": null,
      "id": "6cefb85f-f6d5-44f6-bed0-1d19aac278c8",
      "metadata": {
        "id": "6cefb85f-f6d5-44f6-bed0-1d19aac278c8",
        "outputId": "b98d708f-184d-4d92-d27c-e3ddacd1c9d2"
      },
      "outputs": [
        {
          "data": {
            "text/plain": [
              "{1, 2, 3, 4, 5, 6, 34}"
            ]
          },
          "execution_count": 9,
          "metadata": {},
          "output_type": "execute_result"
        }
      ],
      "source": [
        "sets"
      ]
    },
    {
      "cell_type": "code",
      "execution_count": null,
      "id": "d31f7557-cdf7-4d0e-b542-0978c1420a76",
      "metadata": {
        "id": "d31f7557-cdf7-4d0e-b542-0978c1420a76"
      },
      "outputs": [],
      "source": [
        "sets ={21 , 23, 45,78, 90,99}"
      ]
    },
    {
      "cell_type": "code",
      "execution_count": null,
      "id": "ba8fe0b6-3190-4402-a5af-a970e2f2aeba",
      "metadata": {
        "id": "ba8fe0b6-3190-4402-a5af-a970e2f2aeba"
      },
      "outputs": [],
      "source": [
        "sets.add(34)  # adding element in sets"
      ]
    },
    {
      "cell_type": "code",
      "execution_count": null,
      "id": "052a530c-e318-4828-b85a-85ec0893ebde",
      "metadata": {
        "id": "052a530c-e318-4828-b85a-85ec0893ebde",
        "outputId": "1359e059-493f-4ce2-c9a9-51205ab39e16"
      },
      "outputs": [
        {
          "data": {
            "text/plain": [
              "{21, 23, 34, 45, 78, 90, 99}"
            ]
          },
          "execution_count": 12,
          "metadata": {},
          "output_type": "execute_result"
        }
      ],
      "source": [
        "sets"
      ]
    },
    {
      "cell_type": "code",
      "execution_count": null,
      "id": "6acddab2-3b77-47f8-86af-db0a00210b94",
      "metadata": {
        "id": "6acddab2-3b77-47f8-86af-db0a00210b94"
      },
      "outputs": [],
      "source": [
        "sets ={21,12, 10,78, 90,99}  # sets are always arranged in ascending order."
      ]
    },
    {
      "cell_type": "code",
      "execution_count": null,
      "id": "b1ba457c-222d-42f1-9741-ae78ce39fae1",
      "metadata": {
        "id": "b1ba457c-222d-42f1-9741-ae78ce39fae1",
        "outputId": "22125d46-4452-4dc0-f407-fecab990d968"
      },
      "outputs": [
        {
          "data": {
            "text/plain": [
              "{10, 12, 21, 78, 90, 99}"
            ]
          },
          "execution_count": 14,
          "metadata": {},
          "output_type": "execute_result"
        }
      ],
      "source": [
        "sets"
      ]
    },
    {
      "cell_type": "code",
      "execution_count": null,
      "id": "6cb1d530-f27d-46a5-abdc-879596a3b954",
      "metadata": {
        "id": "6cb1d530-f27d-46a5-abdc-879596a3b954"
      },
      "outputs": [],
      "source": [
        "sets.remove(78)"
      ]
    },
    {
      "cell_type": "code",
      "execution_count": null,
      "id": "a3ad9a4e-3359-4410-a177-43629f07a71b",
      "metadata": {
        "id": "a3ad9a4e-3359-4410-a177-43629f07a71b",
        "outputId": "4760f112-c3d8-488a-aea7-387729fad8c8"
      },
      "outputs": [
        {
          "data": {
            "text/plain": [
              "{10, 12, 21, 90, 99}"
            ]
          },
          "execution_count": 16,
          "metadata": {},
          "output_type": "execute_result"
        }
      ],
      "source": [
        "sets"
      ]
    },
    {
      "cell_type": "code",
      "execution_count": null,
      "id": "928fdcb6-8cc3-4f04-b8d3-9498863340b3",
      "metadata": {
        "id": "928fdcb6-8cc3-4f04-b8d3-9498863340b3"
      },
      "outputs": [],
      "source": [
        "sets = {\"Manoj\", \"Google\",\"Ajay\" , \"Meta\"}"
      ]
    },
    {
      "cell_type": "code",
      "execution_count": null,
      "id": "cefb8727-b88f-4829-ad99-781c2dc863af",
      "metadata": {
        "id": "cefb8727-b88f-4829-ad99-781c2dc863af",
        "outputId": "c1701b2f-6891-4cee-dc21-a84cedd8f5b3"
      },
      "outputs": [
        {
          "data": {
            "text/plain": [
              "{'Ajay', 'Google', 'Manoj', 'Meta'}"
            ]
          },
          "execution_count": 18,
          "metadata": {},
          "output_type": "execute_result"
        }
      ],
      "source": [
        "sets"
      ]
    },
    {
      "cell_type": "code",
      "execution_count": null,
      "id": "d904ad6d-3799-4d00-a193-3cad212af9f3",
      "metadata": {
        "id": "d904ad6d-3799-4d00-a193-3cad212af9f3"
      },
      "outputs": [],
      "source": [
        "sets.add(23)"
      ]
    },
    {
      "cell_type": "code",
      "execution_count": null,
      "id": "b80e7b29-dc86-4669-89b0-3f14a7e6482a",
      "metadata": {
        "id": "b80e7b29-dc86-4669-89b0-3f14a7e6482a",
        "outputId": "3c9f69a1-b10f-4cf7-95f6-3b3820d4732b"
      },
      "outputs": [
        {
          "data": {
            "text/plain": [
              "{23, 'Ajay', 'Google', 'Manoj', 'Meta'}"
            ]
          },
          "execution_count": 21,
          "metadata": {},
          "output_type": "execute_result"
        }
      ],
      "source": [
        "sets"
      ]
    },
    {
      "cell_type": "code",
      "execution_count": null,
      "id": "2ac88cd8-f74f-4803-a2cf-9cc90c5bf192",
      "metadata": {
        "id": "2ac88cd8-f74f-4803-a2cf-9cc90c5bf192"
      },
      "outputs": [],
      "source": [
        "set1 ={1,2,3,4,5,6,7}\n",
        "set2 = {1,2,3,4,11,12}"
      ]
    },
    {
      "cell_type": "code",
      "execution_count": null,
      "id": "e2096a23-2474-4b8a-b522-cdf644b1e08e",
      "metadata": {
        "id": "e2096a23-2474-4b8a-b522-cdf644b1e08e",
        "outputId": "c20823dc-9d6f-46b8-ef87-9bbf3cd9e5c3"
      },
      "outputs": [
        {
          "name": "stdout",
          "output_type": "stream",
          "text": [
            "Union {1, 2, 3, 4, 5, 6, 7, 11, 12}\n",
            "Union {1, 2, 3, 4}\n",
            "Union {5, 6, 7}\n",
            "Union {11, 12}\n"
          ]
        }
      ],
      "source": [
        "print(f\"Union {set1.union(set2)}\")\n",
        "print(f\"Union {set1&set2}\")\n",
        "print(f\"Union {set1-set2}\")\n",
        "print(f\"Union {set2-set1}\")"
      ]
    },
    {
      "cell_type": "code",
      "execution_count": null,
      "id": "7f3fa3d3-33f3-49b2-b9cd-9763c4bb74d3",
      "metadata": {
        "id": "7f3fa3d3-33f3-49b2-b9cd-9763c4bb74d3",
        "outputId": "4564f279-89cc-4d42-d082-b085a81bff02"
      },
      "outputs": [
        {
          "data": {
            "text/plain": [
              "{4, 5, 6, 7, 8}"
            ]
          },
          "execution_count": 26,
          "metadata": {},
          "output_type": "execute_result"
        }
      ],
      "source": [
        "set2"
      ]
    },
    {
      "cell_type": "code",
      "execution_count": null,
      "id": "28f4e10c-e170-4d1d-8f33-8f417edde58c",
      "metadata": {
        "id": "28f4e10c-e170-4d1d-8f33-8f417edde58c"
      },
      "outputs": [],
      "source": [
        "# IMMUTABLE DATATYPES."
      ]
    },
    {
      "cell_type": "code",
      "execution_count": null,
      "id": "be0a39cb-2ee1-4e87-a02c-326260389c90",
      "metadata": {
        "id": "be0a39cb-2ee1-4e87-a02c-326260389c90",
        "outputId": "6c8e9154-c40e-4d95-d56b-492c20ba1287"
      },
      "outputs": [
        {
          "name": "stdout",
          "output_type": "stream",
          "text": [
            "10\n",
            "140716054031064\n"
          ]
        }
      ],
      "source": [
        "a=10\n",
        "print(a)\n",
        "print(id(a))"
      ]
    },
    {
      "cell_type": "code",
      "execution_count": null,
      "id": "7741b6f2-1df1-4f4c-a3f4-b4aedf474c9b",
      "metadata": {
        "id": "7741b6f2-1df1-4f4c-a3f4-b4aedf474c9b"
      },
      "outputs": [],
      "source": [
        "a=a+5"
      ]
    },
    {
      "cell_type": "code",
      "execution_count": null,
      "id": "1f58e5ed-c818-4c4f-8777-cda402660fb4",
      "metadata": {
        "id": "1f58e5ed-c818-4c4f-8777-cda402660fb4",
        "outputId": "b4642837-47e8-41f7-e229-f775dea0f135"
      },
      "outputs": [
        {
          "name": "stdout",
          "output_type": "stream",
          "text": [
            "15\n",
            "140716054031224\n"
          ]
        }
      ],
      "source": [
        "print(a)\n",
        "print(id(a))"
      ]
    },
    {
      "cell_type": "code",
      "execution_count": null,
      "id": "53dba8eb-eb1a-48f7-947f-a89259450a41",
      "metadata": {
        "id": "53dba8eb-eb1a-48f7-947f-a89259450a41",
        "outputId": "0f4c346d-b76b-45bd-d9ba-f1b450910afb"
      },
      "outputs": [
        {
          "name": "stdout",
          "output_type": "stream",
          "text": [
            "10.5\n",
            "2390076922448\n"
          ]
        }
      ],
      "source": [
        "a=10.5\n",
        "print(a)\n",
        "print(id(a))"
      ]
    },
    {
      "cell_type": "code",
      "execution_count": null,
      "id": "0b3e097d-3e0f-4c67-8cd5-1afc4063d9a2",
      "metadata": {
        "id": "0b3e097d-3e0f-4c67-8cd5-1afc4063d9a2",
        "outputId": "41ea10f7-4eb5-4d94-f342-5bad8e448b4c"
      },
      "outputs": [
        {
          "name": "stdout",
          "output_type": "stream",
          "text": [
            "11.5\n",
            "2390095755280\n"
          ]
        }
      ],
      "source": [
        "a=11.5\n",
        "print(a)\n",
        "print(id(a))"
      ]
    },
    {
      "cell_type": "code",
      "execution_count": null,
      "id": "f311b0e8-e462-42bb-99a8-59f785731a43",
      "metadata": {
        "id": "f311b0e8-e462-42bb-99a8-59f785731a43",
        "outputId": "49b79f08-7e3e-48b7-c906-3072b1a79b20"
      },
      "outputs": [
        {
          "name": "stdout",
          "output_type": "stream",
          "text": [
            "(3+4j)\n",
            "2390095756144\n",
            "3.0\n",
            "4.0\n"
          ]
        }
      ],
      "source": [
        "c=3+4j\n",
        "print(c)\n",
        "print(id(c))\n",
        "print(c.real)\n",
        "print(c.imag)"
      ]
    },
    {
      "cell_type": "code",
      "execution_count": null,
      "id": "1dfd2584-4f4d-4328-8dfd-f7eaf750bf34",
      "metadata": {
        "id": "1dfd2584-4f4d-4328-8dfd-f7eaf750bf34",
        "outputId": "d1d28a19-eea8-4754-e025-b445c94eb74c"
      },
      "outputs": [
        {
          "name": "stdout",
          "output_type": "stream",
          "text": [
            "(3+11j)\n",
            "2390095754448\n",
            "3.0\n",
            "11.0\n"
          ]
        }
      ],
      "source": [
        "c=3+11j\n",
        "print(c)\n",
        "print(id(c))\n",
        "print(c.real)\n",
        "print(c.imag)"
      ]
    },
    {
      "cell_type": "code",
      "execution_count": null,
      "id": "2891bb4f-ee3f-4cfd-8d19-52d187fce7a3",
      "metadata": {
        "id": "2891bb4f-ee3f-4cfd-8d19-52d187fce7a3",
        "outputId": "a131872d-87c2-4037-f8e1-97f54a4314a6"
      },
      "outputs": [
        {
          "name": "stdout",
          "output_type": "stream",
          "text": [
            "10\n"
          ]
        }
      ],
      "source": [
        "a=10\n",
        "print(a)"
      ]
    },
    {
      "cell_type": "code",
      "execution_count": null,
      "id": "63115c07-4456-4db9-8ac6-21b5e3a90883",
      "metadata": {
        "id": "63115c07-4456-4db9-8ac6-21b5e3a90883",
        "outputId": "06051300-996a-4034-ddd3-a064e14ae4ff"
      },
      "outputs": [
        {
          "name": "stdout",
          "output_type": "stream",
          "text": [
            "100\n"
          ]
        }
      ],
      "source": [
        "a=a*10\n",
        "print(a)"
      ]
    },
    {
      "cell_type": "code",
      "execution_count": null,
      "id": "8b1f9b04-4743-4c2f-b83e-0dac9c9ab6b8",
      "metadata": {
        "id": "8b1f9b04-4743-4c2f-b83e-0dac9c9ab6b8",
        "outputId": "0ea2c690-91a0-4400-ac64-9d369ab17779"
      },
      "outputs": [
        {
          "name": "stdout",
          "output_type": "stream",
          "text": [
            "Ajay\n",
            "2390082391088\n"
          ]
        }
      ],
      "source": [
        "a= \"Ajay\"\n",
        "print(a)\n",
        "print(id(a))"
      ]
    },
    {
      "cell_type": "code",
      "execution_count": null,
      "id": "bc432aaa-dce9-4a2c-a4b6-060229339afa",
      "metadata": {
        "id": "bc432aaa-dce9-4a2c-a4b6-060229339afa",
        "outputId": "bcbe494d-0db5-4efe-ea2b-fc10f490ccfb"
      },
      "outputs": [
        {
          "name": "stdout",
          "output_type": "stream",
          "text": [
            "Ajay Sati\n",
            "2390097359472\n"
          ]
        }
      ],
      "source": [
        "a= \"Ajay Sati\"\n",
        "print(a)\n",
        "print(id(a))"
      ]
    },
    {
      "cell_type": "code",
      "execution_count": null,
      "id": "ef55c799-042a-4d8d-9392-6599feefdca3",
      "metadata": {
        "id": "ef55c799-042a-4d8d-9392-6599feefdca3",
        "outputId": "7fba0070-5648-4e6c-ac41-721d0b14c2d6"
      },
      "outputs": [
        {
          "name": "stdout",
          "output_type": "stream",
          "text": [
            "True\n",
            "140716052904832\n"
          ]
        }
      ],
      "source": [
        "a= True\n",
        "print(a)\n",
        "print(id(a))"
      ]
    },
    {
      "cell_type": "code",
      "execution_count": null,
      "id": "ff1b0604-3258-4b64-8a18-00c4b256243b",
      "metadata": {
        "id": "ff1b0604-3258-4b64-8a18-00c4b256243b",
        "outputId": "62439af0-0f8d-49c7-bb85-4df7c799beac"
      },
      "outputs": [
        {
          "name": "stdout",
          "output_type": "stream",
          "text": [
            "False\n",
            "140716052904864\n"
          ]
        }
      ],
      "source": [
        "a= False\n",
        "print(a)\n",
        "print(id(a))"
      ]
    },
    {
      "cell_type": "code",
      "execution_count": null,
      "id": "514a1758-4ebe-4f9b-9647-6819f2c3fbf6",
      "metadata": {
        "id": "514a1758-4ebe-4f9b-9647-6819f2c3fbf6"
      },
      "outputs": [],
      "source": [
        "# TUPLE"
      ]
    },
    {
      "cell_type": "code",
      "execution_count": null,
      "id": "9f8455d3-5edb-4b0e-a8ac-aaf23c479b18",
      "metadata": {
        "id": "9f8455d3-5edb-4b0e-a8ac-aaf23c479b18"
      },
      "outputs": [],
      "source": [
        "tup = 1,2,3,4,5,6"
      ]
    },
    {
      "cell_type": "code",
      "execution_count": null,
      "id": "5a0ad8f1-5e74-4800-a248-7b7f46ee00fb",
      "metadata": {
        "id": "5a0ad8f1-5e74-4800-a248-7b7f46ee00fb",
        "outputId": "0221f4a5-10a9-43cd-d92b-a0dc45c0e96d"
      },
      "outputs": [
        {
          "name": "stdout",
          "output_type": "stream",
          "text": [
            "(1, 2, 3, 4, 5, 6)\n",
            "2390097015232\n"
          ]
        }
      ],
      "source": [
        "print(tup)\n",
        "print(id(tup))"
      ]
    },
    {
      "cell_type": "code",
      "execution_count": null,
      "id": "d3c1c373-328a-4741-96ee-64ccb5f0a562",
      "metadata": {
        "id": "d3c1c373-328a-4741-96ee-64ccb5f0a562",
        "outputId": "c60bc8e3-7175-42fc-ab34-5e78af11c59f"
      },
      "outputs": [
        {
          "data": {
            "text/plain": [
              "(2, 3)"
            ]
          },
          "execution_count": 70,
          "metadata": {},
          "output_type": "execute_result"
        }
      ],
      "source": [
        "tup[1:3]"
      ]
    },
    {
      "cell_type": "markdown",
      "id": "6250a05b-e1d2-44cb-8924-1f29a6adc624",
      "metadata": {
        "id": "6250a05b-e1d2-44cb-8924-1f29a6adc624"
      },
      "source": [
        "#  CONDITIONAL STATEMENTS."
      ]
    },
    {
      "cell_type": "code",
      "execution_count": null,
      "id": "18597765-a0e7-43e4-b1e4-4f0f2bce0375",
      "metadata": {
        "id": "18597765-a0e7-43e4-b1e4-4f0f2bce0375"
      },
      "outputs": [],
      "source": [
        "#IF STATEMENT - CONDITION TRUE PART EXCEUTION."
      ]
    },
    {
      "cell_type": "code",
      "execution_count": null,
      "id": "7ee9056f-f5f5-4737-9dc4-e20e02d13571",
      "metadata": {
        "id": "7ee9056f-f5f5-4737-9dc4-e20e02d13571"
      },
      "outputs": [],
      "source": []
    },
    {
      "cell_type": "code",
      "execution_count": null,
      "id": "2c0144dd-4994-4d86-b9ab-16a7c03f0241",
      "metadata": {
        "id": "2c0144dd-4994-4d86-b9ab-16a7c03f0241"
      },
      "outputs": [],
      "source": [
        "# TAKE A NUMERIC INPUT FROM USER , IF NUMBER IS GREATER THAN 10 , ADD ONE TO IT."
      ]
    },
    {
      "cell_type": "code",
      "execution_count": null,
      "id": "d7fd7f67-4106-4771-aa05-1b8e4182268a",
      "metadata": {
        "id": "d7fd7f67-4106-4771-aa05-1b8e4182268a",
        "outputId": "9e77496c-9bc7-4294-f1d3-3c7d211e2957"
      },
      "outputs": [
        {
          "name": "stdin",
          "output_type": "stream",
          "text": [
            "Please enter the number. 2\n"
          ]
        },
        {
          "name": "stdout",
          "output_type": "stream",
          "text": [
            "0\n",
            "outside\n"
          ]
        }
      ],
      "source": [
        "num = int(input(\"Please enter the number.\"))\n",
        "\n",
        "if num>10 :\n",
        "    print(num+1)\n",
        "    print(num+2)\n",
        "    print(num-2)\n",
        "\n",
        "\n",
        "print(\"outside\")"
      ]
    },
    {
      "cell_type": "code",
      "execution_count": null,
      "id": "a31a770b-bf64-4af1-9136-a3f734d52b38",
      "metadata": {
        "id": "a31a770b-bf64-4af1-9136-a3f734d52b38"
      },
      "outputs": [],
      "source": [
        "# IF- ELSE - WE KNOW ACTIONS FOR BOTH CASES (TRUE OR FLASE)"
      ]
    },
    {
      "cell_type": "code",
      "execution_count": null,
      "id": "209dda96-5e41-451e-8a59-36fdae19982f",
      "metadata": {
        "id": "209dda96-5e41-451e-8a59-36fdae19982f"
      },
      "outputs": [],
      "source": [
        "# TAKE A NUMERIC INPUT FROM USER , IF NUMBER IS GREATER THAN 10 , ADD ONE TO IT ELSE SUBTRACT 1 FROM IT."
      ]
    },
    {
      "cell_type": "code",
      "execution_count": null,
      "id": "601db4a4-afed-432c-8b98-40b3fce155d6",
      "metadata": {
        "id": "601db4a4-afed-432c-8b98-40b3fce155d6",
        "outputId": "d177f499-52f6-4246-b42e-66c99be77f51"
      },
      "outputs": [
        {
          "name": "stdin",
          "output_type": "stream",
          "text": [
            "Please enter the number. 12\n"
          ]
        },
        {
          "name": "stdout",
          "output_type": "stream",
          "text": [
            "outside\n"
          ]
        }
      ],
      "source": [
        "num = int(input(\"Please enter the number.\"))\n",
        "\n",
        "if num>10:\n",
        "    print(num+1)\n",
        "    print(\"this is true part\")\n",
        "else:\n",
        "    print(num-1)\n",
        "    print(\"This is false part.\")\n",
        "\n",
        "print(\"outside\")"
      ]
    },
    {
      "cell_type": "code",
      "execution_count": null,
      "id": "aa189507-faea-4647-9325-a0e739a531fb",
      "metadata": {
        "id": "aa189507-faea-4647-9325-a0e739a531fb"
      },
      "outputs": [],
      "source": [
        "#IF -ELIF - ELSE   {WHEN WE HAVE TO CHECK FOR MULTIPLE CONDITIONS AND ON THE BASIS OF MULTIPLE CONDITIONS , WE HAVE TO PERFOM\n",
        "#RESPECTIVE OPERATIONS."
      ]
    },
    {
      "cell_type": "code",
      "execution_count": null,
      "id": "01ccc99b-e8b6-4376-9a7c-d2a82306cfed",
      "metadata": {
        "id": "01ccc99b-e8b6-4376-9a7c-d2a82306cfed"
      },
      "outputs": [],
      "source": [
        "# TAKE A NUMERIC INPUT FROM USER , IF NUMBER IS GREATER THAN 10 , ADD ONE TO IT  IF NUMBER IS SMALLER THAN 10 SUBTRACT 1 FROM IT\n",
        "# ELSE PRINT THE NUMBER AS IT IS."
      ]
    },
    {
      "cell_type": "code",
      "execution_count": null,
      "id": "6f85cc77-4673-438f-9c3a-fe6e18be395e",
      "metadata": {
        "id": "6f85cc77-4673-438f-9c3a-fe6e18be395e",
        "outputId": "71f6ab55-2870-4a44-f559-dfdbb8d69623"
      },
      "outputs": [
        {
          "name": "stdin",
          "output_type": "stream",
          "text": [
            "Please enter the number. 9\n"
          ]
        },
        {
          "name": "stdout",
          "output_type": "stream",
          "text": [
            "8\n",
            "This is 2nd part \n"
          ]
        }
      ],
      "source": [
        "num = int(input(\"Please enter the number.\"))\n",
        "\n",
        "if num>10:\n",
        "    print(num+1)\n",
        "    print(\"1 ST PART.\")\n",
        "elif num<10:\n",
        "    print(num-1)\n",
        "    print(\"This is 2nd part \")\n",
        "else:\n",
        "    print(num)\n",
        "    print(\"This is 3rd Part\")"
      ]
    },
    {
      "cell_type": "code",
      "execution_count": null,
      "id": "319f494f-c520-4e21-abc5-05522f8ad27e",
      "metadata": {
        "id": "319f494f-c520-4e21-abc5-05522f8ad27e"
      },
      "outputs": [],
      "source": [
        "# ENTER STUDENTS MARKS AND TELL THE GRADE."
      ]
    },
    {
      "cell_type": "code",
      "execution_count": null,
      "id": "d766487c-7883-46ce-bd23-77cd63a41154",
      "metadata": {
        "id": "d766487c-7883-46ce-bd23-77cd63a41154",
        "outputId": "ac128a3b-c166-4a94-ffb0-c0263d004ca2"
      },
      "outputs": [
        {
          "name": "stdin",
          "output_type": "stream",
          "text": [
            "Please enter the number. 450\n"
          ]
        },
        {
          "name": "stdout",
          "output_type": "stream",
          "text": [
            "Invalid input\n"
          ]
        }
      ],
      "source": [
        "num = float(input(\"Please enter the number.\"))\n",
        "\n",
        "if(num>100):\n",
        "    print(\"Invalid input\")\n",
        "elif num<=101 and num>=90:\n",
        "    print(\"A+\")\n",
        "elif num<=89 and num>=80:\n",
        "    print(\"A\")\n",
        "elif num<=79 and num>=70:\n",
        "    print(\"B+\")\n",
        "elif num<=69 and num>=60:\n",
        "    print(\"B\")\n",
        "elif num<=59 and num>=50:\n",
        "    print(\"c\")\n",
        "else:\n",
        "    print(\"D\")"
      ]
    },
    {
      "cell_type": "code",
      "execution_count": null,
      "id": "ba4c53f8-3725-41ff-b95f-3cfa81d83620",
      "metadata": {
        "id": "ba4c53f8-3725-41ff-b95f-3cfa81d83620"
      },
      "outputs": [],
      "source": [
        "# NESTED IF."
      ]
    },
    {
      "cell_type": "raw",
      "id": "067c1519-3a2e-4421-8d1c-0c729a3d9e42",
      "metadata": {
        "id": "067c1519-3a2e-4421-8d1c-0c729a3d9e42"
      },
      "source": [
        "Write a program that suggests activities based on the user's age:\n",
        "\n",
        "If the age is less than 18, suggest \"You are eligible for kids' activities.\"\n",
        "For ages 18 to 60, check gender:\n",
        "If male, suggest \"You can participate in sports events.\"\n",
        "If female, suggest \"You can join yoga or dance classes.\"\n",
        "For ages above 60, suggest \"You can participate in senior citizen activities.\""
      ]
    },
    {
      "cell_type": "code",
      "execution_count": null,
      "id": "da67b719-1693-4eb4-830c-68ef1ea8647b",
      "metadata": {
        "id": "da67b719-1693-4eb4-830c-68ef1ea8647b",
        "outputId": "103a6a78-7a51-4f94-cf97-43588a4d072d"
      },
      "outputs": [
        {
          "name": "stdin",
          "output_type": "stream",
          "text": [
            "Please enter the age. 6\n",
            "Please enter the gender. ddsdgreg\n"
          ]
        },
        {
          "name": "stdout",
          "output_type": "stream",
          "text": [
            "You are eligible for  kids activities.\n"
          ]
        }
      ],
      "source": [
        "age = int(input(\"Please enter the age.\"))\n",
        "gender = input(\"Please enter the gender.\")\n",
        "\n",
        "if age<18:\n",
        "    print(\"You are eligible for  kids activities.\")\n",
        "elif age>=18 and age <=60:\n",
        "    if(gender== \"M\"):\n",
        "        print(\"You can Participate in sports events.\")\n",
        "    elif(gender == \"F\"):\n",
        "        print(\"You can join Yoga or dance classes.\")\n",
        "    else:\n",
        "        print(\"Invalid Gender , please enter either {M/F}\")\n",
        "else:\n",
        "    print(\"You can Participate in senior citizen activities.\")"
      ]
    },
    {
      "cell_type": "markdown",
      "id": "155e7be6-f9ca-4b4d-9885-706b8be80388",
      "metadata": {
        "id": "155e7be6-f9ca-4b4d-9885-706b8be80388"
      },
      "source": [
        "# ASSIGNMENT."
      ]
    },
    {
      "cell_type": "raw",
      "id": "9af9e444-7a05-4ec9-8869-9dda5ca63579",
      "metadata": {
        "id": "9af9e444-7a05-4ec9-8869-9dda5ca63579"
      },
      "source": [
        "Develop a program that takes the temperature (in Celsius) as input and classifies it based on the following criteria: temperatures below 0°C should be labeled as \"Extreme Cold,\" temperatures between 0°C and 20°C as \"Cold,\" temperatures between 20°C and 30°C as \"Moderate,\" and temperatures above 30°C as \"Hot.\" If the temperature exceeds 45°C, the program should display an additional warning, \"Heatwave Alert!\""
      ]
    },
    {
      "cell_type": "code",
      "execution_count": null,
      "id": "9de4c15d-3d60-4d8b-94d9-bf7d1e0f8033",
      "metadata": {
        "id": "9de4c15d-3d60-4d8b-94d9-bf7d1e0f8033",
        "outputId": "686ce20d-fce8-4141-a219-47ab7cccbebd"
      },
      "outputs": [
        {
          "name": "stdin",
          "output_type": "stream",
          "text": [
            "Please enter the temperature. 32\n"
          ]
        },
        {
          "name": "stdout",
          "output_type": "stream",
          "text": [
            "Hot\n"
          ]
        }
      ],
      "source": [
        "temp = float(input(\"Please enter the temperature.\"))\n",
        "\n",
        "if temp<0:\n",
        "    print(\"Extreme Cold.\")\n",
        "elif temp>=0 and temp<=20:\n",
        "    print(\"Cold\")\n",
        "elif temp>20 and temp<=30:\n",
        "    print(\"Moderate\")\n",
        "elif temp>30 and temp<=45:\n",
        "    print(\"Hot\")\n",
        "else:\n",
        "    print(\"Heatwave Alert!\")"
      ]
    },
    {
      "cell_type": "raw",
      "id": "cb7378d5-2600-496c-9f5b-b1d2bb9ce50e",
      "metadata": {
        "id": "cb7378d5-2600-496c-9f5b-b1d2bb9ce50e"
      },
      "source": [
        "Write a program that takes the user's age and nationality as input. If the user is at least 18 years old and their nationality is \"Indian,\" print \"Eligible to vote.\" If the user is younger than 18, calculate and display the number of years left until they reach voting age. If the user's nationality is not \"Indian,\" print \"Not eligible to vote in India.\" Ensure the program handles invalid inputs gracefully."
      ]
    },
    {
      "cell_type": "code",
      "execution_count": null,
      "id": "fbe574d9-fc18-45b8-bace-7efbf50fa7e4",
      "metadata": {
        "id": "fbe574d9-fc18-45b8-bace-7efbf50fa7e4",
        "outputId": "f1d970a6-9c21-4822-b289-9d9caa31c067"
      },
      "outputs": [
        {
          "name": "stdin",
          "output_type": "stream",
          "text": [
            "Please Enter your age. 15\n",
            "Please mention your nationality. Indian\n"
          ]
        },
        {
          "name": "stdout",
          "output_type": "stream",
          "text": [
            "You have 3 more years to become an eligible voter.\n"
          ]
        }
      ],
      "source": [
        "age = int(input(\"Please Enter your age.\"))\n",
        "nation= input(\"Please mention your nationality.\")\n",
        "\n",
        "if nation== \"Indian\" or nation == \"indian\":\n",
        "    if(age>18):\n",
        "        print(\"You are eligible to vote.\")\n",
        "    else:\n",
        "        print(f\"You have {18-age} more years to become an eligible voter.\")\n",
        "else:\n",
        "    print(\"You cant vote in India.\")"
      ]
    },
    {
      "cell_type": "code",
      "execution_count": null,
      "id": "96be230d-54d0-4785-b014-5c9c5f59efd4",
      "metadata": {
        "id": "96be230d-54d0-4785-b014-5c9c5f59efd4"
      },
      "outputs": [],
      "source": []
    }
  ],
  "metadata": {
    "kernelspec": {
      "display_name": "Python 3 (ipykernel)",
      "language": "python",
      "name": "python3"
    },
    "language_info": {
      "codemirror_mode": {
        "name": "ipython",
        "version": 3
      },
      "file_extension": ".py",
      "mimetype": "text/x-python",
      "name": "python",
      "nbconvert_exporter": "python",
      "pygments_lexer": "ipython3",
      "version": "3.12.7"
    },
    "colab": {
      "provenance": [],
      "include_colab_link": true
    }
  },
  "nbformat": 4,
  "nbformat_minor": 5
}