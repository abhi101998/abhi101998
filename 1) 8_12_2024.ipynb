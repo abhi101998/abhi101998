{
  "cells": [
    {
      "cell_type": "markdown",
      "metadata": {
        "id": "view-in-github",
        "colab_type": "text"
      },
      "source": [
        "<a href=\"https://colab.research.google.com/github/abhi101998/abhi101998/blob/main/1)%208_12_2024.ipynb\" target=\"_parent\"><img src=\"https://colab.research.google.com/assets/colab-badge.svg\" alt=\"Open In Colab\"/></a>"
      ]
    },
    {
      "cell_type": "code",
      "execution_count": null,
      "id": "2671673b-bba9-4fcb-913a-7fb0deb085e3",
      "metadata": {
        "id": "2671673b-bba9-4fcb-913a-7fb0deb085e3"
      },
      "outputs": [],
      "source": [
        "var = 100"
      ]
    },
    {
      "cell_type": "code",
      "execution_count": null,
      "id": "14108429-6e4b-48de-bbce-1a9d15bf10f4",
      "metadata": {
        "id": "14108429-6e4b-48de-bbce-1a9d15bf10f4",
        "outputId": "63eef229-ed32-47bf-e38b-a5718862934c"
      },
      "outputs": [
        {
          "name": "stdout",
          "output_type": "stream",
          "text": [
            "100\n"
          ]
        }
      ],
      "source": [
        "print(var)"
      ]
    },
    {
      "cell_type": "code",
      "execution_count": null,
      "id": "65dfb049-524d-4fec-923a-4d7713ab9fe0",
      "metadata": {
        "id": "65dfb049-524d-4fec-923a-4d7713ab9fe0",
        "outputId": "c09467d5-735f-4c0c-8e77-5f76c1881ae7"
      },
      "outputs": [
        {
          "name": "stdout",
          "output_type": "stream",
          "text": [
            "140736695973400\n"
          ]
        }
      ],
      "source": [
        "print(id(var))"
      ]
    },
    {
      "cell_type": "code",
      "execution_count": null,
      "id": "1a08120f-e94d-4df2-98f8-3a054863e4d7",
      "metadata": {
        "id": "1a08120f-e94d-4df2-98f8-3a054863e4d7"
      },
      "outputs": [],
      "source": [
        "# numeric\n",
        "# text\n",
        "# float (decimal)\n",
        "# Boolean Variables (true , flase)"
      ]
    },
    {
      "cell_type": "code",
      "execution_count": null,
      "id": "8b84606c-d11c-479b-a6db-2e888de681f8",
      "metadata": {
        "id": "8b84606c-d11c-479b-a6db-2e888de681f8",
        "outputId": "fbb862fc-7a6b-4bf2-866d-80ea99eab183"
      },
      "outputs": [
        {
          "name": "stdout",
          "output_type": "stream",
          "text": [
            "121\n"
          ]
        }
      ],
      "source": [
        "# numeric variable\n",
        "numeric = 121\n",
        "print(numeric)"
      ]
    },
    {
      "cell_type": "code",
      "execution_count": null,
      "id": "f20353c6-b50e-404f-ae85-cee648f59622",
      "metadata": {
        "id": "f20353c6-b50e-404f-ae85-cee648f59622",
        "outputId": "d8693372-dda2-4fea-8a45-41cb7f4cb743"
      },
      "outputs": [
        {
          "name": "stdout",
          "output_type": "stream",
          "text": [
            "121\n"
          ]
        }
      ],
      "source": [
        "print(numeric)"
      ]
    },
    {
      "cell_type": "code",
      "execution_count": null,
      "id": "99382c58-45aa-4ad2-a2b4-ad7fa3334a9d",
      "metadata": {
        "id": "99382c58-45aa-4ad2-a2b4-ad7fa3334a9d"
      },
      "outputs": [],
      "source": [
        "# textual variable\n",
        "text = \"Ajay Sati\""
      ]
    },
    {
      "cell_type": "code",
      "execution_count": null,
      "id": "2bd5db4c-445f-4731-b096-d4e0abd5d5ec",
      "metadata": {
        "id": "2bd5db4c-445f-4731-b096-d4e0abd5d5ec",
        "outputId": "3fb8ee14-acdf-477a-bedc-54f3067bc64b"
      },
      "outputs": [
        {
          "name": "stdout",
          "output_type": "stream",
          "text": [
            "Ajay Sati\n"
          ]
        }
      ],
      "source": [
        "print(text)"
      ]
    },
    {
      "cell_type": "code",
      "execution_count": null,
      "id": "07056821-7825-4aaf-9808-cedb6c5d0191",
      "metadata": {
        "id": "07056821-7825-4aaf-9808-cedb6c5d0191",
        "outputId": "3e0c94c7-10b1-4775-ded7-413cf2d91255"
      },
      "outputs": [
        {
          "name": "stdout",
          "output_type": "stream",
          "text": [
            "38.5\n"
          ]
        }
      ],
      "source": [
        "#float variable\n",
        "flo = 38.5\n",
        "print(flo)"
      ]
    },
    {
      "cell_type": "code",
      "execution_count": null,
      "id": "ec16ada6-d011-4e4b-aaed-201bfe0c3403",
      "metadata": {
        "id": "ec16ada6-d011-4e4b-aaed-201bfe0c3403",
        "outputId": "8ed76e8f-5c51-4756-e95a-96faac2b616d"
      },
      "outputs": [
        {
          "name": "stdout",
          "output_type": "stream",
          "text": [
            "True\n"
          ]
        }
      ],
      "source": [
        "# Boolean Variable\n",
        "boolean = True\n",
        "print(boolean)"
      ]
    },
    {
      "cell_type": "code",
      "execution_count": null,
      "id": "de7b14ca-5cf5-4bba-bd2f-542ba6a24c80",
      "metadata": {
        "id": "de7b14ca-5cf5-4bba-bd2f-542ba6a24c80"
      },
      "outputs": [],
      "source": [
        "we = 1000000"
      ]
    },
    {
      "cell_type": "code",
      "execution_count": null,
      "id": "48ede9fd-bc32-4b61-96ce-0d13c18e42d3",
      "metadata": {
        "id": "48ede9fd-bc32-4b61-96ce-0d13c18e42d3",
        "outputId": "d662a05d-c8af-4182-928f-c0011f923269"
      },
      "outputs": [
        {
          "name": "stdout",
          "output_type": "stream",
          "text": [
            "1000000\n"
          ]
        }
      ],
      "source": [
        "print(we)"
      ]
    },
    {
      "cell_type": "code",
      "execution_count": null,
      "id": "0dd1d6fc-41c2-411f-b33d-28b9f10bb10d",
      "metadata": {
        "id": "0dd1d6fc-41c2-411f-b33d-28b9f10bb10d",
        "outputId": "8b2e9b64-2cb0-41f0-83f1-fddff96590a1"
      },
      "outputs": [
        {
          "data": {
            "text/plain": [
              "1000000"
            ]
          },
          "execution_count": 25,
          "metadata": {},
          "output_type": "execute_result"
        }
      ],
      "source": [
        "we"
      ]
    },
    {
      "cell_type": "code",
      "execution_count": null,
      "id": "d7e41628-0978-43eb-8e4f-57584b23411e",
      "metadata": {
        "id": "d7e41628-0978-43eb-8e4f-57584b23411e",
        "outputId": "841e8c87-8473-4921-9166-a0fb8be5231e"
      },
      "outputs": [
        {
          "data": {
            "text/plain": [
              "int"
            ]
          },
          "execution_count": 26,
          "metadata": {},
          "output_type": "execute_result"
        }
      ],
      "source": [
        "type(we)"
      ]
    },
    {
      "cell_type": "code",
      "execution_count": null,
      "id": "00520865-ab28-4eb6-92f4-9068fc31ac5c",
      "metadata": {
        "id": "00520865-ab28-4eb6-92f4-9068fc31ac5c",
        "outputId": "30acb5a2-0fb2-4f5d-fc4a-531075ffaf28"
      },
      "outputs": [
        {
          "data": {
            "text/plain": [
              "bool"
            ]
          },
          "execution_count": 27,
          "metadata": {},
          "output_type": "execute_result"
        }
      ],
      "source": [
        "type(boolean)"
      ]
    },
    {
      "cell_type": "code",
      "execution_count": null,
      "id": "f94f9a77-66b1-4755-bfa0-f04326c5a785",
      "metadata": {
        "id": "f94f9a77-66b1-4755-bfa0-f04326c5a785",
        "outputId": "c0551971-5e06-4a2e-a5ea-9be0387638a0"
      },
      "outputs": [
        {
          "data": {
            "text/plain": [
              "float"
            ]
          },
          "execution_count": 28,
          "metadata": {},
          "output_type": "execute_result"
        }
      ],
      "source": [
        "type(flo)"
      ]
    },
    {
      "cell_type": "code",
      "execution_count": null,
      "id": "ca70656c-daa3-4d2e-9c0c-768eef6459ae",
      "metadata": {
        "id": "ca70656c-daa3-4d2e-9c0c-768eef6459ae",
        "outputId": "efd7ed94-4d83-43d3-d568-ff1c27118132"
      },
      "outputs": [
        {
          "data": {
            "text/plain": [
              "str"
            ]
          },
          "execution_count": 29,
          "metadata": {},
          "output_type": "execute_result"
        }
      ],
      "source": [
        "type(text)"
      ]
    },
    {
      "cell_type": "code",
      "execution_count": null,
      "id": "5e3ff666-6ad7-4da8-bfda-57673b978b4f",
      "metadata": {
        "id": "5e3ff666-6ad7-4da8-bfda-57673b978b4f",
        "outputId": "8030dba8-f1fa-404e-b0c7-659103460875"
      },
      "outputs": [
        {
          "ename": "NameError",
          "evalue": "name 'Type' is not defined",
          "output_type": "error",
          "traceback": [
            "\u001b[1;31m---------------------------------------------------------------------------\u001b[0m",
            "\u001b[1;31mNameError\u001b[0m                                 Traceback (most recent call last)",
            "Cell \u001b[1;32mIn[30], line 1\u001b[0m\n\u001b[1;32m----> 1\u001b[0m Type(text)\n",
            "\u001b[1;31mNameError\u001b[0m: name 'Type' is not defined"
          ]
        }
      ],
      "source": [
        "Type(text)"
      ]
    },
    {
      "cell_type": "code",
      "execution_count": null,
      "id": "a02fc6e8-6f2d-452c-b3e6-21af21685119",
      "metadata": {
        "id": "a02fc6e8-6f2d-452c-b3e6-21af21685119"
      },
      "outputs": [],
      "source": [
        "#  Rules of variables"
      ]
    },
    {
      "cell_type": "code",
      "execution_count": null,
      "id": "747552c4-be14-4b29-a099-b50b7bd7cf82",
      "metadata": {
        "id": "747552c4-be14-4b29-a099-b50b7bd7cf82"
      },
      "outputs": [],
      "source": [
        "sfsgregre= 12"
      ]
    },
    {
      "cell_type": "code",
      "execution_count": null,
      "id": "a40e9a44-46e6-4a31-b503-20f585c198c3",
      "metadata": {
        "id": "a40e9a44-46e6-4a31-b503-20f585c198c3",
        "outputId": "518c1a6b-0acc-471e-8ff8-d3bcd02a1ffd"
      },
      "outputs": [
        {
          "name": "stdout",
          "output_type": "stream",
          "text": [
            "140736695970584\n"
          ]
        }
      ],
      "source": [
        "print(id(sfsgregre))"
      ]
    },
    {
      "cell_type": "code",
      "execution_count": null,
      "id": "55c79c4e-fd09-4d8d-a72e-a67a26fecce2",
      "metadata": {
        "id": "55c79c4e-fd09-4d8d-a72e-a67a26fecce2",
        "outputId": "9392d9d5-35e4-4c7d-b0a9-03f452226a18"
      },
      "outputs": [
        {
          "name": "stdout",
          "output_type": "stream",
          "text": [
            "140736695970584\n"
          ]
        }
      ],
      "source": [
        " Q= 12\n",
        "print(id(Q))"
      ]
    },
    {
      "cell_type": "code",
      "execution_count": null,
      "id": "f467ae21-1f97-4a1a-b4ae-e7d07335074e",
      "metadata": {
        "id": "f467ae21-1f97-4a1a-b4ae-e7d07335074e"
      },
      "outputs": [],
      "source": [
        "_q= 10"
      ]
    },
    {
      "cell_type": "code",
      "execution_count": null,
      "id": "0f3be61b-b5f3-4259-bf63-2968bf7aa4fd",
      "metadata": {
        "id": "0f3be61b-b5f3-4259-bf63-2968bf7aa4fd",
        "outputId": "7aa9a9b8-7c85-4975-fda3-469e30547425"
      },
      "outputs": [
        {
          "data": {
            "text/plain": [
              "10"
            ]
          },
          "execution_count": 51,
          "metadata": {},
          "output_type": "execute_result"
        }
      ],
      "source": [
        "_q"
      ]
    },
    {
      "cell_type": "code",
      "execution_count": null,
      "id": "83cf6654-39cf-484e-80b8-370eb3043622",
      "metadata": {
        "id": "83cf6654-39cf-484e-80b8-370eb3043622"
      },
      "outputs": [],
      "source": [
        "#operators. [Air]"
      ]
    },
    {
      "cell_type": "code",
      "execution_count": null,
      "id": "b33b7ff2-14d1-4201-afc5-5bc2b18cd3f8",
      "metadata": {
        "id": "b33b7ff2-14d1-4201-afc5-5bc2b18cd3f8",
        "outputId": "064c39aa-fdd5-44c6-cc5d-5289d07a3759"
      },
      "outputs": [
        {
          "name": "stdout",
          "output_type": "stream",
          "text": [
            "5\n"
          ]
        }
      ],
      "source": [
        "print(2+3)"
      ]
    },
    {
      "cell_type": "code",
      "execution_count": null,
      "id": "efc77aa7-1e9e-4b49-b7e0-90ae927eec9d",
      "metadata": {
        "id": "efc77aa7-1e9e-4b49-b7e0-90ae927eec9d",
        "outputId": "7f2150ca-aa1e-4658-e488-96d8d35a4c4f"
      },
      "outputs": [
        {
          "name": "stdout",
          "output_type": "stream",
          "text": [
            "-1\n"
          ]
        }
      ],
      "source": [
        "print(2-3)"
      ]
    },
    {
      "cell_type": "code",
      "execution_count": null,
      "id": "bc636f93-b76e-4cd2-af93-bd64932be510",
      "metadata": {
        "id": "bc636f93-b76e-4cd2-af93-bd64932be510",
        "outputId": "a40d0244-d1b5-4671-e653-2606c7678d6c"
      },
      "outputs": [
        {
          "name": "stdout",
          "output_type": "stream",
          "text": [
            "6\n"
          ]
        }
      ],
      "source": [
        "print(2*3)"
      ]
    },
    {
      "cell_type": "code",
      "execution_count": null,
      "id": "82505c77-53dd-4cfd-890f-79ff8abe0dd4",
      "metadata": {
        "id": "82505c77-53dd-4cfd-890f-79ff8abe0dd4",
        "outputId": "faa48c40-a5f2-4094-9cc3-36a44f2d0593"
      },
      "outputs": [
        {
          "name": "stdout",
          "output_type": "stream",
          "text": [
            "2.3333333333333335\n"
          ]
        }
      ],
      "source": [
        "print(7/3)   # After decimal values."
      ]
    },
    {
      "cell_type": "code",
      "execution_count": null,
      "id": "80aa8659-587f-4e05-88b5-68cdb7e23b78",
      "metadata": {
        "id": "80aa8659-587f-4e05-88b5-68cdb7e23b78",
        "outputId": "3561f58c-e67c-48b6-caf2-aa175b3103ff"
      },
      "outputs": [
        {
          "name": "stdout",
          "output_type": "stream",
          "text": [
            "2\n"
          ]
        }
      ],
      "source": [
        "print(7//3)   # before decimal Values."
      ]
    },
    {
      "cell_type": "code",
      "execution_count": null,
      "id": "05c1a81c-7e47-400a-ad87-be10dfebc35c",
      "metadata": {
        "id": "05c1a81c-7e47-400a-ad87-be10dfebc35c",
        "outputId": "97cdfe2b-20d6-4e47-85a7-231e3f76b3c6"
      },
      "outputs": [
        {
          "name": "stdout",
          "output_type": "stream",
          "text": [
            "0\n"
          ]
        }
      ],
      "source": [
        "print(9%3) #Reminder"
      ]
    },
    {
      "cell_type": "code",
      "execution_count": null,
      "id": "5312ca7a-a802-4d75-9b6f-17fa0c13c89a",
      "metadata": {
        "id": "5312ca7a-a802-4d75-9b6f-17fa0c13c89a"
      },
      "outputs": [],
      "source": [
        "# conditional Operators."
      ]
    },
    {
      "cell_type": "code",
      "execution_count": null,
      "id": "1bd9acc4-f311-462c-b82e-4c01d14054cc",
      "metadata": {
        "id": "1bd9acc4-f311-462c-b82e-4c01d14054cc",
        "outputId": "2a3c9e92-946b-43c6-9a4c-6478354e4a39"
      },
      "outputs": [
        {
          "name": "stdin",
          "output_type": "stream",
          "text": [
            "Please Enter  first Number 54\n",
            "Please Enter Second Number 96\n"
          ]
        }
      ],
      "source": [
        "no1 = int(input(\"Please Enter  first Number\"))\n",
        "no2 = float(input(\"Please Enter Second Number\"))"
      ]
    },
    {
      "cell_type": "code",
      "execution_count": null,
      "id": "c6a09c4d-2eff-4f3f-a840-5cdc09a5fdf1",
      "metadata": {
        "id": "c6a09c4d-2eff-4f3f-a840-5cdc09a5fdf1",
        "outputId": "2685e88c-0365-42e1-eb95-4bc7e59f8197"
      },
      "outputs": [
        {
          "data": {
            "text/plain": [
              "False"
            ]
          },
          "execution_count": 84,
          "metadata": {},
          "output_type": "execute_result"
        }
      ],
      "source": [
        "no1==no2"
      ]
    },
    {
      "cell_type": "code",
      "execution_count": null,
      "id": "b784d6a1-b5b9-4a62-94b9-8fe6af45270c",
      "metadata": {
        "id": "b784d6a1-b5b9-4a62-94b9-8fe6af45270c"
      },
      "outputs": [],
      "source": [
        "no1=no2"
      ]
    },
    {
      "cell_type": "code",
      "execution_count": null,
      "id": "18919cb9-b5dd-4e89-9683-a0c6150242b6",
      "metadata": {
        "id": "18919cb9-b5dd-4e89-9683-a0c6150242b6",
        "outputId": "c441e6da-4b76-44eb-f7b5-8210a011d6ca"
      },
      "outputs": [
        {
          "data": {
            "text/plain": [
              "True"
            ]
          },
          "execution_count": 86,
          "metadata": {},
          "output_type": "execute_result"
        }
      ],
      "source": [
        "no1==no2"
      ]
    },
    {
      "cell_type": "code",
      "execution_count": null,
      "id": "bcfbaf00-c8b5-4b7c-97c6-8b342afda78c",
      "metadata": {
        "id": "bcfbaf00-c8b5-4b7c-97c6-8b342afda78c",
        "outputId": "4a3a6dda-ba0d-48d7-a8ea-dc1ff1d6d5a6"
      },
      "outputs": [
        {
          "data": {
            "text/plain": [
              "False"
            ]
          },
          "execution_count": 87,
          "metadata": {},
          "output_type": "execute_result"
        }
      ],
      "source": [
        "no1!=no2"
      ]
    },
    {
      "cell_type": "code",
      "execution_count": null,
      "id": "e682a1d7-04c2-4d24-b3c6-cce773776085",
      "metadata": {
        "id": "e682a1d7-04c2-4d24-b3c6-cce773776085",
        "outputId": "6d89952a-3dae-462b-ca2f-5ad7e6a7ce61"
      },
      "outputs": [
        {
          "data": {
            "text/plain": [
              "96.0"
            ]
          },
          "execution_count": 88,
          "metadata": {},
          "output_type": "execute_result"
        }
      ],
      "source": [
        "no1"
      ]
    },
    {
      "cell_type": "code",
      "execution_count": null,
      "id": "6e12e2c9-0a10-4fb2-b0a4-57bd907a6681",
      "metadata": {
        "id": "6e12e2c9-0a10-4fb2-b0a4-57bd907a6681",
        "outputId": "d83bc8d2-1bb8-4289-ff86-89302babdc37"
      },
      "outputs": [
        {
          "data": {
            "text/plain": [
              "96.0"
            ]
          },
          "execution_count": 89,
          "metadata": {},
          "output_type": "execute_result"
        }
      ],
      "source": [
        "no2"
      ]
    },
    {
      "cell_type": "code",
      "execution_count": null,
      "id": "ea0bb535-3753-4ebd-8ffa-9335507bd6bd",
      "metadata": {
        "id": "ea0bb535-3753-4ebd-8ffa-9335507bd6bd",
        "outputId": "91376aec-ad5d-4656-e9f3-5c5499ce541f"
      },
      "outputs": [
        {
          "name": "stdin",
          "output_type": "stream",
          "text": [
            "Please Enter  first Number 26\n",
            "Please Enter Second Number M\n"
          ]
        }
      ],
      "source": [
        "Age = int(input(\"Please Enter  first Number\"))\n",
        "Gender= input(\"Please Enter Second Number\")"
      ]
    },
    {
      "cell_type": "code",
      "execution_count": null,
      "id": "d255a9c1-8800-4a6e-b003-1bcf64862e28",
      "metadata": {
        "id": "d255a9c1-8800-4a6e-b003-1bcf64862e28",
        "outputId": "24d19940-fa89-4394-9d6a-aea4ebd326b6"
      },
      "outputs": [
        {
          "data": {
            "text/plain": [
              "True"
            ]
          },
          "execution_count": 109,
          "metadata": {},
          "output_type": "execute_result"
        }
      ],
      "source": [
        "Age == 23 or Gender == \"M\""
      ]
    },
    {
      "cell_type": "code",
      "execution_count": null,
      "id": "a1669b59-4e76-4346-91b5-692214193d93",
      "metadata": {
        "id": "a1669b59-4e76-4346-91b5-692214193d93",
        "outputId": "0e1fbc8f-dccc-44cb-9f37-d1b0af075435"
      },
      "outputs": [
        {
          "data": {
            "text/plain": [
              "str"
            ]
          },
          "execution_count": 98,
          "metadata": {},
          "output_type": "execute_result"
        }
      ],
      "source": [
        "type(Gender)"
      ]
    },
    {
      "cell_type": "code",
      "execution_count": null,
      "id": "225c4b5d-dbb9-46d7-b9f1-bd7961a7c91a",
      "metadata": {
        "id": "225c4b5d-dbb9-46d7-b9f1-bd7961a7c91a",
        "outputId": "dc9f6881-89e0-4f36-ea34-fed3550332c2"
      },
      "outputs": [
        {
          "ename": "ZeroDivisionError",
          "evalue": "division by zero",
          "output_type": "error",
          "traceback": [
            "\u001b[1;31m---------------------------------------------------------------------------\u001b[0m",
            "\u001b[1;31mZeroDivisionError\u001b[0m                         Traceback (most recent call last)",
            "Cell \u001b[1;32mIn[110], line 1\u001b[0m\n\u001b[1;32m----> 1\u001b[0m \u001b[38;5;28mprint\u001b[39m(\u001b[38;5;241m0\u001b[39m\u001b[38;5;241m/\u001b[39m\u001b[38;5;241m0\u001b[39m)\n",
            "\u001b[1;31mZeroDivisionError\u001b[0m: division by zero"
          ]
        }
      ],
      "source": [
        "print(0/0)"
      ]
    },
    {
      "cell_type": "code",
      "execution_count": null,
      "id": "98210e7d-f7f2-4b26-85be-bd9879127188",
      "metadata": {
        "id": "98210e7d-f7f2-4b26-85be-bd9879127188",
        "outputId": "69d9c987-82a6-46a6-b9f5-aa113b2b815e"
      },
      "outputs": [
        {
          "name": "stdin",
          "output_type": "stream",
          "text": [
            "Please Enter  first Number 23\n",
            "Please Enter Second Number 34\n"
          ]
        }
      ],
      "source": [
        "no1 = int(input(\"Please Enter  first Number\"))\n",
        "no2 = float(input(\"Please Enter Second Number\"))"
      ]
    },
    {
      "cell_type": "code",
      "execution_count": null,
      "id": "a932bd78-9d6a-4420-835f-cb4ba2a629fe",
      "metadata": {
        "id": "a932bd78-9d6a-4420-835f-cb4ba2a629fe",
        "outputId": "99a0a5c0-2fdc-46b0-81ec-0d023b0922e9"
      },
      "outputs": [
        {
          "data": {
            "text/plain": [
              "False"
            ]
          },
          "execution_count": 112,
          "metadata": {},
          "output_type": "execute_result"
        }
      ],
      "source": [
        "no1==no2"
      ]
    },
    {
      "cell_type": "code",
      "execution_count": null,
      "id": "3c1c06da-4a24-4432-a106-40354cebb31a",
      "metadata": {
        "id": "3c1c06da-4a24-4432-a106-40354cebb31a"
      },
      "outputs": [],
      "source": [
        "no1 = no2"
      ]
    },
    {
      "cell_type": "code",
      "execution_count": null,
      "id": "07343781-f4b0-47b3-8363-fd8f0e656e2d",
      "metadata": {
        "id": "07343781-f4b0-47b3-8363-fd8f0e656e2d",
        "outputId": "f36373a0-1c58-4b14-98ab-23f88e7cbead"
      },
      "outputs": [
        {
          "data": {
            "text/plain": [
              "34.0"
            ]
          },
          "execution_count": 114,
          "metadata": {},
          "output_type": "execute_result"
        }
      ],
      "source": [
        "no1"
      ]
    },
    {
      "cell_type": "code",
      "execution_count": null,
      "id": "919007a7-f1f7-4098-b376-deb8c2567507",
      "metadata": {
        "id": "919007a7-f1f7-4098-b376-deb8c2567507",
        "outputId": "852bc506-9e73-48fd-f0b2-a3e3fd612d89"
      },
      "outputs": [
        {
          "data": {
            "text/plain": [
              "34.0"
            ]
          },
          "execution_count": 115,
          "metadata": {},
          "output_type": "execute_result"
        }
      ],
      "source": [
        "no2"
      ]
    },
    {
      "cell_type": "code",
      "execution_count": null,
      "id": "ce218677-28ab-4371-8ea1-fa43c1188fdb",
      "metadata": {
        "id": "ce218677-28ab-4371-8ea1-fa43c1188fdb",
        "outputId": "0f96a4f6-a527-4318-acff-953dba5862f1"
      },
      "outputs": [
        {
          "data": {
            "text/plain": [
              "True"
            ]
          },
          "execution_count": 116,
          "metadata": {},
          "output_type": "execute_result"
        }
      ],
      "source": [
        "no1==no2\n"
      ]
    },
    {
      "cell_type": "code",
      "execution_count": null,
      "id": "e8d9dfb8-6c7e-40b5-aefb-03b3a9d45a7e",
      "metadata": {
        "id": "e8d9dfb8-6c7e-40b5-aefb-03b3a9d45a7e"
      },
      "outputs": [],
      "source": []
    }
  ],
  "metadata": {
    "kernelspec": {
      "display_name": "Python 3 (ipykernel)",
      "language": "python",
      "name": "python3"
    },
    "language_info": {
      "codemirror_mode": {
        "name": "ipython",
        "version": 3
      },
      "file_extension": ".py",
      "mimetype": "text/x-python",
      "name": "python",
      "nbconvert_exporter": "python",
      "pygments_lexer": "ipython3",
      "version": "3.12.7"
    },
    "colab": {
      "provenance": [],
      "include_colab_link": true
    }
  },
  "nbformat": 4,
  "nbformat_minor": 5
}